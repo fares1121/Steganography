{
  "nbformat": 4,
  "nbformat_minor": 0,
  "metadata": {
    "colab": {
      "provenance": [],
      "gpuType": "V100"
    },
    "kernelspec": {
      "name": "python3",
      "display_name": "Python 3"
    },
    "language_info": {
      "name": "python"
    },
    "accelerator": "GPU"
  },
  "cells": [
    {
      "cell_type": "markdown",
      "source": [
        "# **Image Steganography Using Python**"
      ],
      "metadata": {
        "id": "M4o3ZLQt2qhG"
      }
    },
    {
      "cell_type": "markdown",
      "source": [
        "We will implement a Steganography algorithm that can hide a message in a digital image and then extract that encrypted message using Python."
      ],
      "metadata": {
        "id": "7o4CwEIB3PeH"
      }
    },
    {
      "cell_type": "markdown",
      "source": [
        "**Install Libraries**"
      ],
      "metadata": {
        "id": "KuJJJ-qQ4Rul"
      }
    },
    {
      "cell_type": "code",
      "execution_count": 14,
      "metadata": {
        "colab": {
          "base_uri": "https://localhost:8080/"
        },
        "id": "IEksDv8Bw6Ir",
        "outputId": "652fa919-7b63-4048-cb68-c11471650605"
      },
      "outputs": [
        {
          "output_type": "stream",
          "name": "stdout",
          "text": [
            "Requirement already satisfied: opencv-python in /usr/local/lib/python3.10/dist-packages (4.8.0.76)\n",
            "Requirement already satisfied: numpy>=1.21.2 in /usr/local/lib/python3.10/dist-packages (from opencv-python) (1.23.5)\n"
          ]
        }
      ],
      "source": [
        "!pip install opencv-python"
      ]
    },
    {
      "cell_type": "code",
      "source": [
        "!pip install pyfiglet"
      ],
      "metadata": {
        "colab": {
          "base_uri": "https://localhost:8080/"
        },
        "id": "ocrYJpVbzvYd",
        "outputId": "a4387fb9-158c-4f9a-e5f0-3845c1082aba"
      },
      "execution_count": 15,
      "outputs": [
        {
          "output_type": "stream",
          "name": "stdout",
          "text": [
            "Requirement already satisfied: pyfiglet in /usr/local/lib/python3.10/dist-packages (1.0.2)\n"
          ]
        }
      ]
    },
    {
      "cell_type": "markdown",
      "source": [
        "**Import Libraries**"
      ],
      "metadata": {
        "id": "dNEyFMWf4WHW"
      }
    },
    {
      "cell_type": "code",
      "source": [
        "import pyfiglet\n",
        "import cv2"
      ],
      "metadata": {
        "id": "_ZZo3jY1zdAa"
      },
      "execution_count": 16,
      "outputs": []
    },
    {
      "cell_type": "markdown",
      "source": [
        "**Encrypt The Data In The Image**"
      ],
      "metadata": {
        "id": "-lWyuTRf4ZZy"
      }
    },
    {
      "cell_type": "code",
      "source": [
        "ascii_banner = pyfiglet.figlet_format(\"STEGNOGRAPHER- ENCRYPTER\")\n",
        "print(ascii_banner)\n",
        "loc=input(\"Enter the path of image (with extension) -> \")\n",
        "image=cv2.imread(loc)\n",
        "txt=input(\"Enter the data that you want to Encrypt (add '$' at the END of your statement) :- \")\n",
        "ls=(list(txt))\n",
        "for i in range(0,len(ls)):\n",
        "     data=ord(ls[i])\n",
        "     image[0,i,0]=data\n",
        "lc=input(\"Enter saving location (Extension should be .png) ->\")\n",
        "cv2.imwrite(lc,image)\n",
        "print(\"Data Encrypted\")\n",
        "input(\"\")"
      ],
      "metadata": {
        "id": "s_rgS2Dez1af",
        "outputId": "62bbb5f5-d60a-4e01-f878-71697f35152d",
        "colab": {
          "base_uri": "https://localhost:8080/",
          "height": 348
        }
      },
      "execution_count": 17,
      "outputs": [
        {
          "name": "stdout",
          "output_type": "stream",
          "text": [
            " ____ _____ _____ ____ _   _  ___   ____ ____      _    ____  _   _ _____ \n",
            "/ ___|_   _| ____/ ___| \\ | |/ _ \\ / ___|  _ \\    / \\  |  _ \\| | | | ____|\n",
            "\\___ \\ | | |  _|| |  _|  \\| | | | | |  _| |_) |  / _ \\ | |_) | |_| |  _|  \n",
            " ___) || | | |__| |_| | |\\  | |_| | |_| |  _ <  / ___ \\|  __/|  _  | |___ \n",
            "|____/ |_| |_____\\____|_| \\_|\\___/ \\____|_| \\_\\/_/   \\_\\_|   |_| |_|_____|\n",
            "                                                                          \n",
            " ____         _____ _   _  ____ ______   ______ _____ _____ ____  \n",
            "|  _ \\       | ____| \\ | |/ ___|  _ \\ \\ / /  _ \\_   _| ____|  _ \\ \n",
            "| |_) |____  |  _| |  \\| | |   | |_) \\ V /| |_) || | |  _| | |_) |\n",
            "|  _ <_____| | |___| |\\  | |___|  _ < | | |  __/ | | | |___|  _ < \n",
            "|_| \\_\\      |_____|_| \\_|\\____|_| \\_\\|_| |_|    |_| |_____|_| \\_\\\n",
            "                                                                  \n",
            "\n",
            "Enter the path of image (with extension) -> 1.png\n",
            "Enter the data that you want to Encrypt (add '$' at the END of your statement) :- This is testing message.$\n",
            "Enter saving location (Extension should be .png) ->stegoImage.png\n",
            "Data Encrypted\n",
            "\n"
          ]
        },
        {
          "output_type": "execute_result",
          "data": {
            "text/plain": [
              "''"
            ],
            "application/vnd.google.colaboratory.intrinsic+json": {
              "type": "string"
            }
          },
          "metadata": {},
          "execution_count": 17
        }
      ]
    },
    {
      "cell_type": "markdown",
      "source": [
        "**Decrypt The Data From The Image**"
      ],
      "metadata": {
        "id": "TwCj8cW94kEh"
      }
    },
    {
      "cell_type": "code",
      "source": [
        "ascii_banner = pyfiglet.figlet_format(\"STEGNOGRAPHER- DECRYPT\")\n",
        "print(ascii_banner)\n",
        "d=[]\n",
        "loc=input(\"Enter the path of image (with extension) -> \")\n",
        "image=cv2.imread(loc)\n",
        "x,y,z=image.shape\n",
        "for i in range(0,y):\n",
        "     b=chr(image[0,i,0])\n",
        "     #print (b)\n",
        "     if(b=='$'):\n",
        "          break\n",
        "     else:\n",
        "          d.append(b)\n",
        "d=''.join(d)\n",
        "print(d)\n",
        "input()\n",
        "print(\"You can close the window now.\")"
      ],
      "metadata": {
        "colab": {
          "base_uri": "https://localhost:8080/"
        },
        "id": "iPoEGgiL1r0O",
        "outputId": "e292d5a3-7e2b-4820-abd9-167d3d78b0ae"
      },
      "execution_count": 18,
      "outputs": [
        {
          "output_type": "stream",
          "name": "stdout",
          "text": [
            " ____ _____ _____ ____ _   _  ___   ____ ____      _    ____  _   _ _____ \n",
            "/ ___|_   _| ____/ ___| \\ | |/ _ \\ / ___|  _ \\    / \\  |  _ \\| | | | ____|\n",
            "\\___ \\ | | |  _|| |  _|  \\| | | | | |  _| |_) |  / _ \\ | |_) | |_| |  _|  \n",
            " ___) || | | |__| |_| | |\\  | |_| | |_| |  _ <  / ___ \\|  __/|  _  | |___ \n",
            "|____/ |_| |_____\\____|_| \\_|\\___/ \\____|_| \\_\\/_/   \\_\\_|   |_| |_|_____|\n",
            "                                                                          \n",
            " ____         ____  _____ ____ ______   ______ _____ \n",
            "|  _ \\       |  _ \\| ____/ ___|  _ \\ \\ / /  _ \\_   _|\n",
            "| |_) |____  | | | |  _|| |   | |_) \\ V /| |_) || |  \n",
            "|  _ <_____| | |_| | |__| |___|  _ < | | |  __/ | |  \n",
            "|_| \\_\\      |____/|_____\\____|_| \\_\\|_| |_|    |_|  \n",
            "                                                     \n",
            "\n",
            "Enter the path of image (with extension) -> stegoImage.png\n",
            "This is testing message.\n",
            "\n",
            "You can close the window now.\n"
          ]
        }
      ]
    }
  ]
}